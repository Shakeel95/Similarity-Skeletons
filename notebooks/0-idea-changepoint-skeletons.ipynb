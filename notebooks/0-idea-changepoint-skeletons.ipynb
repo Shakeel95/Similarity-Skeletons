{
 "cells": [
  {
   "cell_type": "markdown",
   "metadata": {},
   "source": [
    "# Overview: measuring time series similarity using changepoints"
   ]
  },
  {
   "cell_type": "markdown",
   "metadata": {},
   "source": [
    "Notebooks in this directory explore the use of change points for measuring time series similarity. This notebook outlines the procedures. Throughout $\\boldsymbol{X} \\in \\mathcal{R}^{T \\times p}$ represents a panel of $p$ time series and $X$ represents a single time series in the panel. "
   ]
  },
  {
   "cell_type": "markdown",
   "metadata": {},
   "source": [
    "## Mean-Shift similarity"
   ]
  },
  {
   "cell_type": "markdown",
   "metadata": {},
   "source": [
    "Often assuming a piecewise-constant \"signal + noise\" model is sufficient for extract groups of visually similar time series. Using binary segmentation the most likely location of changepoints for each time series can be extracted by recursively applying a CUSUM statistic."
   ]
  },
  {
   "cell_type": "markdown",
   "metadata": {},
   "source": [
    "$$\\widetilde{X}_{s,e}^b = \\sqrt{\\frac{e-b}{n\\left ( b-s+1 \\right )}} \\sum_{t=s}^{b} X_t- \\sqrt{\\frac{b-s+1}{n\\left ( e-b \\right )}} \\sum_{t=b+1}^{e} X_t$$"
   ]
  },
  {
   "cell_type": "markdown",
   "metadata": {},
   "source": [
    "Where $[e,b]$ is the interval being searched, $n = e - s + 1$, and $b$ is the location of a possible changepoint. Time series with mean shifts within some neighborhood of each other are then called \"similar\"."
   ]
  },
  {
   "cell_type": "markdown",
   "metadata": {},
   "source": [
    "The entire procedure takes $O(p T \\cdot \\log T)$ time, which is a factor $\\frac{p}{\\log T}$ faster than computing a covariance matrix - in high dimensional settings this constitutes a significant improvement."
   ]
  },
  {
   "cell_type": "markdown",
   "metadata": {},
   "source": [
    "## Shape Similarity"
   ]
  },
  {
   "cell_type": "markdown",
   "metadata": {},
   "source": [
    "Rather than comparing time series on the **location** of their chanepoints the changepoints discovered can be used to fit a piecewise approximation or \"skeleton\" of each process - for example a piecewise constant or piecewise linear approximation. Distances between these skeletons can then be used to find groups of visually similar time series. "
   ]
  },
  {
   "cell_type": "markdown",
   "metadata": {},
   "source": [
    "For convenience say each time series has be re-scaled to a curve on $[0,1] \\times [0,1]$. Then a skeleton is some injective piecewise linear/constant function say $Q: [0,1] \\rightarrow [0,1]$. The Hausdorff and Frechet distances (below) have been use in computer vision and genetics to identify visually similar curves. \n",
    "\n",
    "It turns out the Hausdorff and Frechet distances are equivalent for skeletons defined above, and can be computed in $O(N)$ time assuming each time series has $N$ changepoints. Letting $N = O(T)$ grouping similar time series this way takes $O(p^2 T)$ time, which is no worse than computing a covariance matrix. "
   ]
  },
  {
   "cell_type": "markdown",
   "metadata": {},
   "source": [
    "#### Hausdorff distance"
   ]
  },
  {
   "cell_type": "markdown",
   "metadata": {},
   "source": [
    "Intuitively the Hausdorff distance is the longest distance you can be forced to travel by an adversary who chooses a point in one of the two sets, from where you then must travel to the other set."
   ]
  },
  {
   "cell_type": "markdown",
   "metadata": {},
   "source": [
    "$$h(P,Q) = \\underset{p \\in P}{\\max}\\left \\{ \\underset{q \\in Q}{\\min} \\left \\| p-q \\right \\| \\right \\}$$\n",
    "\n",
    "$$H(P,Q) = \\max\\left \\{ h(P,Q), h(Q,P) \\right \\}$$"
   ]
  },
  {
   "cell_type": "markdown",
   "metadata": {},
   "source": [
    "Where $h(P,Q)$ is the direct Hausdorff distance from P to Q and $H(P,Q)$ is Hausdorff distance between the two curves. "
   ]
  },
  {
   "cell_type": "markdown",
   "metadata": {},
   "source": [
    "#### Frechet distance"
   ]
  },
  {
   "cell_type": "markdown",
   "metadata": {},
   "source": [
    "Intuitively the Fréchet distance between the two curves is the length of the shortest leash sufficient to connect a man on curve $P$ to his dog on curve $Q$; both may adjust their speeds but neither may go backwards. "
   ]
  },
  {
   "cell_type": "markdown",
   "metadata": {},
   "source": [
    "$$F(P,Q) = \\underset{\\alpha,\\beta}{\\inf} \\left \\{ \\underset{t \\in [0,1]}{\\max} \\left \\| P\\left ( \\alpha(t) \\right ) - Q\\left ( \\beta(t) \\right ) \\right \\| \\right \\}$$"
   ]
  },
  {
   "cell_type": "markdown",
   "metadata": {},
   "source": [
    "Where $\\alpha,\\beta : [0,1] \\rightarrow [0,1]$. "
   ]
  }
 ],
 "metadata": {
  "kernelspec": {
   "display_name": "R",
   "language": "R",
   "name": "ir"
  },
  "language_info": {
   "codemirror_mode": "r",
   "file_extension": ".r",
   "mimetype": "text/x-r-source",
   "name": "R",
   "pygments_lexer": "r",
   "version": "3.6.2"
  }
 },
 "nbformat": 4,
 "nbformat_minor": 4
}
