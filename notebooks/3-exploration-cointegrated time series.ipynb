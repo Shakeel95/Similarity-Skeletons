{
 "cells": [
  {
   "cell_type": "markdown",
   "metadata": {},
   "source": [
    "# Exploration: simulated cointegrated time series"
   ]
  },
  {
   "cell_type": "markdown",
   "metadata": {},
   "source": [
    "Cointegrated time series are often visually similar. This notebook explores to what extent changepoint based similarity measures are useful for identifying cointegrated time series in large panels of heterogeneous time series. "
   ]
  },
  {
   "cell_type": "markdown",
   "metadata": {},
   "source": [
    "## Setup"
   ]
  },
  {
   "cell_type": "code",
   "execution_count": 2,
   "metadata": {},
   "outputs": [],
   "source": [
    "source(\"../scripts/frechet_dist_skeleton.R\")\n",
    "source(\"../scripts/cointegration_simulations.R\")\n",
    "source(\"../scripts/eval_cointegration_discrimination.R\")\n",
    "library(\"not\")"
   ]
  },
  {
   "cell_type": "markdown",
   "metadata": {},
   "source": [
    "## Motivation"
   ]
  },
  {
   "cell_type": "markdown",
   "metadata": {},
   "source": [
    "Consider the \"textbook\" example of two cointegrated time series $X_t = (x_{1,t},x_{2,t})$ where $x_{1,t}$ follows a random walk and the cointegrating vector $\\boldsymbol{a}^T = (-\\gamma,1)$ impliws that $x_{2,t}$ may only wander a fixed distance from $\\gamma x_{1,t}$. \n",
    "\n",
    "$$x_{1,t} = x_{1,t-1} + u_{1,t}$$\n",
    "$$x_{2,t} = \\gamma x_{1,t} + u_{2,t}$$\n",
    "$$(u_1,u_2) \\sim \\mathcal{N}(\\boldsymbol{0},\\Omega)$$\n",
    "\n",
    "Simulating the process with $\\gamma = 0.7$ and $\\Omega = \\boldsymbol{I}_2$ the two time series are visually very similar. "
   ]
  },
  {
   "cell_type": "code",
   "execution_count": 21,
   "metadata": {},
   "outputs": [
    {
     "data": {
      "image/png": "[encoded data removed]",
      "text/plain": [
       "plot without title"
      ]
     },
     "metadata": {
      "image/png": {
       "height": 420,
       "width": 420
      }
     },
     "output_type": "display_data"
    }
   ],
   "source": [
    "X <- cointegrated.series(100,0.7,diag(2))\n",
    "plot.ts(X)"
   ]
  },
  {
   "cell_type": "markdown",
   "metadata": {},
   "source": [
    "Importantly for the proposed method, the changepoints in $x_1$ and $x_2$ identified by the NOT algorithm tend to be very close. "
   ]
  },
  {
   "cell_type": "code",
   "execution_count": 22,
   "metadata": {},
   "outputs": [
    {
     "data": {
      "text/html": [
       "<table>\n",
       "<caption>A matrix: 2 × 1</caption>\n",
       "<tbody>\n",
       "\t<tr><td>19, 35, 45, 53, 65, 78, 94</td></tr>\n",
       "\t<tr><td>19, 36, 43, 50, 63, 80</td></tr>\n",
       "</tbody>\n",
       "</table>\n"
      ],
      "text/latex": [
       "A matrix: 2 × 1\n",
       "\\begin{tabular}{l}\n",
       "\t 19, 35, 45, 53, 65, 78, 94\\\\\n",
       "\t 19, 36, 43, 50, 63, 80\\\\\n",
       "\\end{tabular}\n"
      ],
      "text/markdown": [
       "\n",
       "A matrix: 2 × 1\n",
       "\n",
       "| 19, 35, 45, 53, 65, 78, 94 |\n",
       "| 19, 36, 43, 50, 63, 80 |\n",
       "\n"
      ],
      "text/plain": [
       "     [,1]                      \n",
       "[1,] 19, 35, 45, 53, 65, 78, 94\n",
       "[2,] 19, 36, 43, 50, 63, 80    "
      ]
     },
     "metadata": {},
     "output_type": "display_data"
    }
   ],
   "source": [
    "not.x <- list()\n",
    "for (i in 1:2) not.x[[i]] <- not(X[,i], contrast = \"pcwsLinMean\")\n",
    "cbind(lapply(1:2, function(i) features(not.x[[i]])$cpt))"
   ]
  },
  {
   "cell_type": "markdown",
   "metadata": {},
   "source": [
    "Finally, the piecewise linear approximations from the NOT algorithm are visually similar. In fact, rescaling so that the two time series take values only in $[0,1]$ the changepoint skeletons are almost identical. "
   ]
  },
  {
   "cell_type": "code",
   "execution_count": 36,
   "metadata": {},
   "outputs": [
    {
     "data": {
      "image/png": "[encoded data removed]",
      "text/plain": [
       "Plot with title \"rescaled skeletons\""
      ]
     },
     "metadata": {
      "image/png": {
       "height": 420,
       "width": 420
      }
     },
     "output_type": "display_data"
    }
   ],
   "source": [
    "Y <- matrix(unlist(lapply(1:2, function(i) predict(not.x[[i]]))), ncol = 2)\n",
    "\n",
    "par(mfrow = c(2,1))\n",
    "ts.plot(Y, main = \"piecewise linear skeletons\")\n",
    "ts.plot(apply(Y,2,function(i) (i-min(i))/(max(i)-min(i))), main = \"rescaled skeletons\")"
   ]
  },
  {
   "cell_type": "markdown",
   "metadata": {},
   "source": [
    "## Finding cointegrated time series"
   ]
  },
  {
   "cell_type": "markdown",
   "metadata": {},
   "source": [
    "Here four experiments are run to test to what extent the Frechet distance between changepoint based skeletons can be used to discriminate between co-integrated and non-cointegrated time series. The textbook example from above with various choices for $\\gamma$ together with a vector of noise terms $Z_t$ is simulated and distances between all time series are calculated, this is then used to estimate the probability that the distance between the two cointegrated time series will be smallest. Specifically, the simulations estimate the quantity: "
   ]
  },
  {
   "cell_type": "markdown",
   "metadata": {},
   "source": [
    "$$\\mathbb{P}\\left ( d(x_1,x_2) < \\underset{j\\in \\left \\{ 1,...,n \\right \\}}{\\inf} d(x_1,z_j) \\right )$$"
   ]
  },
  {
   "cell_type": "markdown",
   "metadata": {},
   "source": [
    "In each simulation $Z_t$ is set to a vector of 50 time series, each time series is simulated up to $T = 100$, and each simulation is repeated for 100 times."
   ]
  },
  {
   "cell_type": "code",
   "execution_count": 4,
   "metadata": {},
   "outputs": [],
   "source": [
    "trials <- 100; n <- 50; tt <- 100; C <- diag(2); C.x <- diag(2)\n",
    "C.X <- diag(50); n.workers <- 8; h <- 5\n",
    "path.dist <- \"../scripts/frechet_dist_skeleton.R\"\n",
    "path.coint <- \"../scripts/cointegration_simulations.R\""
   ]
  },
  {
   "cell_type": "markdown",
   "metadata": {},
   "source": [
    "#### Serially and cross sectionally uncorrelated noise"
   ]
  },
  {
   "cell_type": "markdown",
   "metadata": {},
   "source": [
    "In the simplest case $Z_t$ is set to be uncorrelated standard Gaussian noise."
   ]
  },
  {
   "cell_type": "code",
   "execution_count": 4,
   "metadata": {},
   "outputs": [
    {
     "data": {
      "text/html": [
       "<table>\n",
       "<caption>A data.frame: 1 × 4</caption>\n",
       "<thead>\n",
       "\t<tr><th scope=col>g.1.5</th><th scope=col>g.1</th><th scope=col>g.0.5</th><th scope=col>g.neg.0.5</th></tr>\n",
       "\t<tr><th scope=col>&lt;dbl&gt;</th><th scope=col>&lt;dbl&gt;</th><th scope=col>&lt;dbl&gt;</th><th scope=col>&lt;dbl&gt;</th></tr>\n",
       "</thead>\n",
       "<tbody>\n",
       "\t<tr><td>0.99</td><td>0.97</td><td>0.87</td><td>0.23</td></tr>\n",
       "</tbody>\n",
       "</table>\n"
      ],
      "text/latex": [
       "A data.frame: 1 × 4\n",
       "\\begin{tabular}{llll}\n",
       " g.1.5 & g.1 & g.0.5 & g.neg.0.5\\\\\n",
       " <dbl> & <dbl> & <dbl> & <dbl>\\\\\n",
       "\\hline\n",
       "\t 0.99 & 0.97 & 0.87 & 0.23\\\\\n",
       "\\end{tabular}\n"
      ],
      "text/markdown": [
       "\n",
       "A data.frame: 1 × 4\n",
       "\n",
       "| g.1.5 &lt;dbl&gt; | g.1 &lt;dbl&gt; | g.0.5 &lt;dbl&gt; | g.neg.0.5 &lt;dbl&gt; |\n",
       "|---|---|---|---|\n",
       "| 0.99 | 0.97 | 0.87 | 0.23 |\n",
       "\n"
      ],
      "text/plain": [
       "  g.1.5 g.1  g.0.5 g.neg.0.5\n",
       "1 0.99  0.97 0.87  0.23     "
      ]
     },
     "metadata": {},
     "output_type": "display_data"
    }
   ],
   "source": [
    "g.1.5 <- eval.noise(trials,n,tt,C,1.5,n.workers,path.dist,path.coint)\n",
    "g.1 <- eval.noise(trials,n,tt,C,1,n.workers,path.dist,path.coint)\n",
    "g.0.5 <- eval.noise(trials,n,tt,C,0.5,n.workers,path.dist,path.coint)\n",
    "g.neg.0.5 <- eval.noise(trials,n,tt,C,-0.5,n.workers,path.dist,path.coint)\n",
    "\n",
    "data.frame(g.1.5,g.1,g.0.5,g.neg.0.5)"
   ]
  },
  {
   "cell_type": "markdown",
   "metadata": {},
   "source": [
    "#### Dependant noise"
   ]
  },
  {
   "cell_type": "markdown",
   "metadata": {},
   "source": [
    "Here $Z_t$ is set to be cross sectionally uncorrelated dependent noise. With probability $p = 0.5$ each entry in $Z_t$ follows either a stationary AR(1) process or an invertible MA(1) process with parameters draws from a uniform distribution on $(0,1)$."
   ]
  },
  {
   "cell_type": "code",
   "execution_count": 5,
   "metadata": {},
   "outputs": [
    {
     "data": {
      "text/html": [
       "<table>\n",
       "<caption>A data.frame: 1 × 4</caption>\n",
       "<thead>\n",
       "\t<tr><th scope=col>g.1.5</th><th scope=col>g.1</th><th scope=col>g.0.5</th><th scope=col>g.neg.0.5</th></tr>\n",
       "\t<tr><th scope=col>&lt;dbl&gt;</th><th scope=col>&lt;dbl&gt;</th><th scope=col>&lt;dbl&gt;</th><th scope=col>&lt;dbl&gt;</th></tr>\n",
       "</thead>\n",
       "<tbody>\n",
       "\t<tr><td>0.87</td><td>0.82</td><td>0.74</td><td>0</td></tr>\n",
       "</tbody>\n",
       "</table>\n"
      ],
      "text/latex": [
       "A data.frame: 1 × 4\n",
       "\\begin{tabular}{llll}\n",
       " g.1.5 & g.1 & g.0.5 & g.neg.0.5\\\\\n",
       " <dbl> & <dbl> & <dbl> & <dbl>\\\\\n",
       "\\hline\n",
       "\t 0.87 & 0.82 & 0.74 & 0\\\\\n",
       "\\end{tabular}\n"
      ],
      "text/markdown": [
       "\n",
       "A data.frame: 1 × 4\n",
       "\n",
       "| g.1.5 &lt;dbl&gt; | g.1 &lt;dbl&gt; | g.0.5 &lt;dbl&gt; | g.neg.0.5 &lt;dbl&gt; |\n",
       "|---|---|---|---|\n",
       "| 0.87 | 0.82 | 0.74 | 0 |\n",
       "\n"
      ],
      "text/plain": [
       "  g.1.5 g.1  g.0.5 g.neg.0.5\n",
       "1 0.87  0.82 0.74  0        "
      ]
     },
     "metadata": {},
     "output_type": "display_data"
    }
   ],
   "source": [
    "g.1.5 <- eval.dependant.noise(trials,n,tt,C,1.5,0.5,n.workers,path.dist,path.coint)\n",
    "g.1 <- eval.dependant.noise(trials,n,tt,C,1,0.5,n.workers,path.dist,path.coint)\n",
    "g.0.5 <- eval.dependant.noise(trials,n,tt,C,0.5,0.5,n.workers,path.dist,path.coint)\n",
    "g.neg.0.5 <- eval.dependant.noise(trials,n,tt,C,-0.5,0.5,n.workers,path.dist,path.coint)\n",
    "\n",
    "data.frame(g.1.5,g.1,g.0.5,g.neg.0.5)"
   ]
  },
  {
   "cell_type": "markdown",
   "metadata": {},
   "source": [
    "#### Non-stationary noise"
   ]
  },
  {
   "cell_type": "markdown",
   "metadata": {},
   "source": [
    "Here $Z_t$ is set to be cross sectionally uncorrelated non-stationary noise. Each entry in $Z_t$ is simulated as a random walk, and with probability $p = 0.3$ drift is added where $\\delta$ is drawn from a uniform distribution on $(-1,1)$."
   ]
  },
  {
   "cell_type": "code",
   "execution_count": 6,
   "metadata": {},
   "outputs": [
    {
     "data": {
      "text/html": [
       "<table>\n",
       "<caption>A data.frame: 1 × 4</caption>\n",
       "<thead>\n",
       "\t<tr><th scope=col>g.1.5</th><th scope=col>g.1</th><th scope=col>g.0.5</th><th scope=col>g.neg.0.5</th></tr>\n",
       "\t<tr><th scope=col>&lt;dbl&gt;</th><th scope=col>&lt;dbl&gt;</th><th scope=col>&lt;dbl&gt;</th><th scope=col>&lt;dbl&gt;</th></tr>\n",
       "</thead>\n",
       "<tbody>\n",
       "\t<tr><td>0.85</td><td>0.77</td><td>0.57</td><td>0</td></tr>\n",
       "</tbody>\n",
       "</table>\n"
      ],
      "text/latex": [
       "A data.frame: 1 × 4\n",
       "\\begin{tabular}{llll}\n",
       " g.1.5 & g.1 & g.0.5 & g.neg.0.5\\\\\n",
       " <dbl> & <dbl> & <dbl> & <dbl>\\\\\n",
       "\\hline\n",
       "\t 0.85 & 0.77 & 0.57 & 0\\\\\n",
       "\\end{tabular}\n"
      ],
      "text/markdown": [
       "\n",
       "A data.frame: 1 × 4\n",
       "\n",
       "| g.1.5 &lt;dbl&gt; | g.1 &lt;dbl&gt; | g.0.5 &lt;dbl&gt; | g.neg.0.5 &lt;dbl&gt; |\n",
       "|---|---|---|---|\n",
       "| 0.85 | 0.77 | 0.57 | 0 |\n",
       "\n"
      ],
      "text/plain": [
       "  g.1.5 g.1  g.0.5 g.neg.0.5\n",
       "1 0.85  0.77 0.57  0        "
      ]
     },
     "metadata": {},
     "output_type": "display_data"
    }
   ],
   "source": [
    "g.1.5 <- eval.nonstationary.noise(trials,n,tt,C,1.5,0.3,n.workers,path.dist,path.coint)\n",
    "g.1 <- eval.nonstationary.noise(trials,n,tt,C,1,0.3,n.workers,path.dist,path.coint)\n",
    "g.0.5 <- eval.nonstationary.noise(trials,n,tt,C,0.5,0.3,n.workers,path.dist,path.coint)\n",
    "g.neg.0.5 <- eval.nonstationary.noise(trials,n,tt,C,-0.5,0.3,n.workers,path.dist,path.coint)\n",
    "\n",
    "data.frame(g.1.5,g.1,g.0.5,g.neg.0.5)"
   ]
  },
  {
   "cell_type": "markdown",
   "metadata": {},
   "source": [
    "#### cointegrated time series"
   ]
  },
  {
   "cell_type": "markdown",
   "metadata": {},
   "source": [
    "$Z_t$ is set to be a vector of cointegrated time series with $h = 5$ cointegrating relationships. For the procedure to simulate  such time series see my [stack exchange post](https://quant.stackexchange.com/questions/3930/how-to-simulate-cointegrated-prices/53221#53221)."
   ]
  },
  {
   "cell_type": "code",
   "execution_count": 5,
   "metadata": {},
   "outputs": [
    {
     "data": {
      "text/html": [
       "<table>\n",
       "<caption>A data.frame: 1 × 4</caption>\n",
       "<thead>\n",
       "\t<tr><th scope=col>g.1.5</th><th scope=col>g.1</th><th scope=col>g.0.5</th><th scope=col>g.neg.0.5</th></tr>\n",
       "\t<tr><th scope=col>&lt;int&gt;</th><th scope=col>&lt;int&gt;</th><th scope=col>&lt;int&gt;</th><th scope=col>&lt;int&gt;</th></tr>\n",
       "</thead>\n",
       "<tbody>\n",
       "\t<tr><td>80</td><td>74</td><td>56</td><td>0</td></tr>\n",
       "</tbody>\n",
       "</table>\n"
      ],
      "text/latex": [
       "A data.frame: 1 × 4\n",
       "\\begin{tabular}{llll}\n",
       " g.1.5 & g.1 & g.0.5 & g.neg.0.5\\\\\n",
       " <int> & <int> & <int> & <int>\\\\\n",
       "\\hline\n",
       "\t 80 & 74 & 56 & 0\\\\\n",
       "\\end{tabular}\n"
      ],
      "text/markdown": [
       "\n",
       "A data.frame: 1 × 4\n",
       "\n",
       "| g.1.5 &lt;int&gt; | g.1 &lt;int&gt; | g.0.5 &lt;int&gt; | g.neg.0.5 &lt;int&gt; |\n",
       "|---|---|---|---|\n",
       "| 80 | 74 | 56 | 0 |\n",
       "\n"
      ],
      "text/plain": [
       "  g.1.5 g.1 g.0.5 g.neg.0.5\n",
       "1 80    74  56    0        "
      ]
     },
     "metadata": {},
     "output_type": "display_data"
    }
   ],
   "source": [
    "g.1.5 <- eval.cointegrated.noise(trials,n,h,tt,C.x,C.X,1.5,n.workers,path.dist,path.coint)\n",
    "g.1 <- eval.cointegrated.noise(trials,n,h,tt,C.x,C.X,1,n.workers,path.dist,path.coint)\n",
    "g.0.5 <- eval.cointegrated.noise(trials,n,h,tt,C.x,C.X,0.5,n.workers,path.dist,path.coint)\n",
    "g.neg.0.5 <- eval.cointegrated.noise(trials,n,h,tt,C.x,C.X,-0.5,n.workers,path.dist,path.coint)\n",
    "\n",
    "data.frame(g.1.5,g.1,g.0.5,g.neg.0.5)"
   ]
  },
  {
   "cell_type": "markdown",
   "metadata": {},
   "source": [
    "## Observations"
   ]
  },
  {
   "cell_type": "markdown",
   "metadata": {},
   "source": [
    "Overall the procedure seems to work well. As $\\gamma$ decreases the accuracy of the procedure deteriorates, and the same is true as more dependence is added to the noise vector $Z_t$. Although a properly specified parametric test fort cointegration will tend to out perform the above, the procedure is still worth investigating as it is entirely non parametric. Standard tests for cointegration tend to lose poser become entirely inconsistent when (i) a structural break is present or (ii) the lag structure is mis-specified; however, we would not expect the same to be true for this procedure. "
   ]
  },
  {
   "cell_type": "markdown",
   "metadata": {},
   "source": [
    "It is also worth noting that the NOT algorithm is optimize to (i) find changepoints in a parametric model and (ii) find changepoints which optimally describe some scalar valued time series. The skeletons provided by the NOT algorithm with piecewise linear contrast function may therefore not be optimal for comparing time series similarity."
   ]
  },
  {
   "cell_type": "markdown",
   "metadata": {},
   "source": [
    "### Negative $\\gamma$"
   ]
  },
  {
   "cell_type": "markdown",
   "metadata": {},
   "source": [
    "The procedure works very poorly when $\\gamma$ is negative. To see why consider the original example this time run with $\\gamma = -0.7$. "
   ]
  },
  {
   "cell_type": "code",
   "execution_count": 6,
   "metadata": {},
   "outputs": [
    {
     "data": {
      "image/png": "[encoded data removed]",
      "text/plain": [
       "plot without title"
      ]
     },
     "metadata": {
      "image/png": {
       "height": 420,
       "width": 420
      }
     },
     "output_type": "display_data"
    }
   ],
   "source": [
    "X <- cointegrated.series(100,-0.7,diag(2))\n",
    "plot.ts(X)"
   ]
  },
  {
   "cell_type": "markdown",
   "metadata": {},
   "source": [
    "Again, the NOT algorithm identified similarly placed changepoints for the two time series. "
   ]
  },
  {
   "cell_type": "code",
   "execution_count": 7,
   "metadata": {},
   "outputs": [
    {
     "data": {
      "text/html": [
       "<table>\n",
       "<caption>A matrix: 2 × 1</caption>\n",
       "<tbody>\n",
       "\t<tr><td>10, 17, 27, 37, 48, 64, 85, 91</td></tr>\n",
       "\t<tr><td>10, 27, 37, 53, 62, 92</td></tr>\n",
       "</tbody>\n",
       "</table>\n"
      ],
      "text/latex": [
       "A matrix: 2 × 1\n",
       "\\begin{tabular}{l}\n",
       "\t 10, 17, 27, 37, 48, 64, 85, 91\\\\\n",
       "\t 10, 27, 37, 53, 62, 92\\\\\n",
       "\\end{tabular}\n"
      ],
      "text/markdown": [
       "\n",
       "A matrix: 2 × 1\n",
       "\n",
       "| 10, 17, 27, 37, 48, 64, 85, 91 |\n",
       "| 10, 27, 37, 53, 62, 92 |\n",
       "\n"
      ],
      "text/plain": [
       "     [,1]                          \n",
       "[1,] 10, 17, 27, 37, 48, 64, 85, 91\n",
       "[2,] 10, 27, 37, 53, 62, 92        "
      ]
     },
     "metadata": {},
     "output_type": "display_data"
    }
   ],
   "source": [
    "not.x <- list()\n",
    "for (i in 1:2) not.x[[i]] <- not(X[,i], contrast = \"pcwsLinMean\")\n",
    "cbind(lapply(1:2, function(i) features(not.x[[i]])$cpt))"
   ]
  },
  {
   "cell_type": "markdown",
   "metadata": {},
   "source": [
    "However, the two skeletons for the curve time series are always very far from each other. This is because  $x_{2,t}$ may only wander a fixed distance from -$\\gamma x_{1,t}$, so the two time series will tend to be close only when $x_{1,t}$ is close to zero. Reflecting either time series in the x-axis solves the problem. A solution might be to use a distance metric which allows for rotations and translations. "
   ]
  },
  {
   "cell_type": "code",
   "execution_count": 17,
   "metadata": {},
   "outputs": [
    {
     "data": {
      "image/png": "[encoded data removed]",
      "text/plain": [
       "Plot with title \" reflected skeletons rescaled\""
      ]
     },
     "metadata": {
      "image/png": {
       "height": 420,
       "width": 420
      }
     },
     "output_type": "display_data"
    }
   ],
   "source": [
    "par(mfrow = c(2,2))\n",
    "Y <- matrix(unlist(lapply(1:2, function(i) predict(not.x[[i]]))), ncol = 2)\n",
    "                          \n",
    "ts.plot(Y, main = \"original skeletons\")\n",
    "ts.plot(apply(Y,2,function(i) (i-min(i))/(max(i)-min(i))), main = \"original skeletons rescaled\")\n",
    "              \n",
    "Y[,2] <- -Y[,2]\n",
    "ts.plot(Y, main = \"reflected skeleton\")\n",
    "ts.plot(apply(Y,2,function(i) (i-min(i))/(max(i)-min(i))), main = \" reflected skeletons rescaled\")"
   ]
  }
 ],
 "metadata": {
  "kernelspec": {
   "display_name": "R",
   "language": "R",
   "name": "ir"
  },
  "language_info": {
   "codemirror_mode": "r",
   "file_extension": ".r",
   "mimetype": "text/x-r-source",
   "name": "R",
   "pygments_lexer": "r",
   "version": "3.6.2"
  }
 },
 "nbformat": 4,
 "nbformat_minor": 4
}
