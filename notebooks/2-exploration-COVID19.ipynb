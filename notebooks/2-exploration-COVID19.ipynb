{
 "cells": [
  {
   "cell_type": "markdown",
   "metadata": {},
   "source": [
    "# Exploration: COVID-19 deaths and confirmed cases"
   ]
  },
  {
   "cell_type": "markdown",
   "metadata": {},
   "source": [
    "## Setup"
   ]
  },
  {
   "cell_type": "code",
   "execution_count": 5,
   "metadata": {},
   "outputs": [
    {
     "name": "stderr",
     "output_type": "stream",
     "text": [
      "Warning message:\n",
      "\"Columns [Founded] seem to have no data and are removed. Use rm_nodata_cols = F to suppress this behavior\"\n"
     ]
    }
   ],
   "source": [
    "source(\"../scripts/build_datasets.R\")\n",
    "source(\"../scripts/frechet_dist_skeleton.R\")\n",
    "source(\"../scripts/mean_shift_similarity.R\")\n",
    "source(\"../scripts/cluster_process.R\")"
   ]
  },
  {
   "cell_type": "code",
   "execution_count": 3,
   "metadata": {},
   "outputs": [],
   "source": [
    "COVID <- COVID19.global()"
   ]
  },
  {
   "cell_type": "markdown",
   "metadata": {},
   "source": [
    "## Mean shift similarity"
   ]
  },
  {
   "cell_type": "markdown",
   "metadata": {},
   "source": [
    "## Piecewise-constant skeleton"
   ]
  },
  {
   "cell_type": "markdown",
   "metadata": {},
   "source": [
    "### Confirmed cases"
   ]
  },
  {
   "cell_type": "markdown",
   "metadata": {},
   "source": [
    "### Deaths"
   ]
  },
  {
   "cell_type": "code",
   "execution_count": 4,
   "metadata": {},
   "outputs": [
    {
     "name": "stdout",
     "output_type": "stream",
     "text": [
      "[1] \"fitting time series skeletons (in parallel)\"\n",
      "[1] \"calculating distance matrix...\"\n"
     ]
    },
    {
     "data": {
      "image/png": "[encoded data removed]",
      "text/plain": [
       "Plot with title \"Frechet distance clusters\""
      ]
     },
     "metadata": {
      "image/png": {
       "height": 420,
       "width": 420
      }
     },
     "output_type": "display_data"
    }
   ],
   "source": [
    "deaths.sim <- skeleton.similarity(COVID$deaths, set.contrast = \"pcwsConstMean\", parallel.comp = TRUE)\n",
    "deaths.hc <- hclust(deaths.sim)\n",
    "plot(deaths.hc, main = \"Frechet distance clusters\", labels = FALSE)"
   ]
  },
  {
   "cell_type": "code",
   "execution_count": 20,
   "metadata": {},
   "outputs": [
    {
     "data": {
      "text/html": [
       "<table>\n",
       "<caption>A matrix: 2 × 21 of type int</caption>\n",
       "<tbody>\n",
       "\t<tr><th scope=row>cluster</th><td> 1</td><td> 2</td><td>3</td><td> 4</td><td>5</td><td>6</td><td> 7</td><td>8</td><td> 9</td><td>10</td><td>...</td><td>12</td><td>13</td><td>14</td><td>15</td><td>16</td><td>17</td><td>18</td><td>19</td><td>20</td><td>21</td></tr>\n",
       "\t<tr><th scope=row>count</th><td>28</td><td>23</td><td>8</td><td>17</td><td>6</td><td>5</td><td>12</td><td>1</td><td>27</td><td> 1</td><td>...</td><td> 4</td><td> 1</td><td> 1</td><td> 1</td><td> 1</td><td> 2</td><td> 1</td><td> 3</td><td> 1</td><td> 1</td></tr>\n",
       "</tbody>\n",
       "</table>\n"
      ],
      "text/latex": [
       "A matrix: 2 × 21 of type int\n",
       "\\begin{tabular}{r|lllllllllllllllllllll}\n",
       "\tcluster &  1 &  2 & 3 &  4 & 5 & 6 &  7 & 8 &  9 & 10 & ... & 12 & 13 & 14 & 15 & 16 & 17 & 18 & 19 & 20 & 21\\\\\n",
       "\tcount & 28 & 23 & 8 & 17 & 6 & 5 & 12 & 1 & 27 &  1 & ... &  4 &  1 &  1 &  1 &  1 &  2 &  1 &  3 &  1 &  1\\\\\n",
       "\\end{tabular}\n"
      ],
      "text/markdown": [
       "\n",
       "A matrix: 2 × 21 of type int\n",
       "\n",
       "| cluster |  1 |  2 | 3 |  4 | 5 | 6 |  7 | 8 |  9 | 10 | ... | 12 | 13 | 14 | 15 | 16 | 17 | 18 | 19 | 20 | 21 |\n",
       "| count | 28 | 23 | 8 | 17 | 6 | 5 | 12 | 1 | 27 |  1 | ... |  4 |  1 |  1 |  1 |  1 |  2 |  1 |  3 |  1 |  1 |\n",
       "\n"
      ],
      "text/plain": [
       "        [,1] [,2] [,3] [,4] [,5] [,6] [,7] [,8] [,9] [,10] [,11] [,12] [,13]\n",
       "cluster  1    2   3     4   5    6     7   8     9   10    ...   12    13   \n",
       "count   28   23   8    17   6    5    12   1    27    1    ...    4     1   \n",
       "        [,14] [,15] [,16] [,17] [,18] [,19] [,20] [,21]\n",
       "cluster 14    15    16    17    18    19    20    21   \n",
       "count    1     1     1     2     1     3     1     1   "
      ]
     },
     "metadata": {},
     "output_type": "display_data"
    }
   ],
   "source": [
    "deaths.clusters <- country.cluster.info(deaths.hc, h = 0.8, countries.info = countries.info)\n",
    "t(deaths.clusters$cluster.counts)"
   ]
  },
  {
   "cell_type": "code",
   "execution_count": 21,
   "metadata": {},
   "outputs": [
    {
     "data": {
      "image/png": "[encoded data removed]",
      "text/plain": [
       "Plot with title \"Development classifications\""
      ]
     },
     "metadata": {
      "image/png": {
       "height": 420,
       "width": 420
      }
     },
     "output_type": "display_data"
    }
   ],
   "source": [
    "country.cluster.boxplot(subset(deaths.clusters$cluster.info, clusters == 4))"
   ]
  },
  {
   "cell_type": "code",
   "execution_count": 22,
   "metadata": {},
   "outputs": [
    {
     "data": {
      "text/html": [
       "<table>\n",
       "<caption>A data.frame: 17 × 4</caption>\n",
       "<thead>\n",
       "\t<tr><th></th><th scope=col>Country</th><th scope=col>Region</th><th scope=col>Development</th><th scope=col>clusters</th></tr>\n",
       "\t<tr><th></th><th scope=col>&lt;named list&gt;</th><th scope=col>&lt;named list&gt;</th><th scope=col>&lt;named list&gt;</th><th scope=col>&lt;int&gt;</th></tr>\n",
       "</thead>\n",
       "<tbody>\n",
       "\t<tr><th scope=row>Armenia</th><td>Armenia</td><td>Europe</td><td>Global South</td><td>4</td></tr>\n",
       "\t<tr><th scope=row>Belarus</th><td>Belarus</td><td>Europe</td><td>Global South</td><td>4</td></tr>\n",
       "\t<tr><th scope=row>Congo (Brazzaville)</th><td>Brazil</td><td>South/Latin America</td><td>Global South</td><td>4</td></tr>\n",
       "\t<tr><th scope=row>Congo (Kinshasa)</th><td>Mongolia</td><td>Asia &amp; Pacific</td><td>Global South</td><td>4</td></tr>\n",
       "\t<tr><th scope=row>Estonia</th><td>Estonia</td><td>Europe</td><td>Global North</td><td>4</td></tr>\n",
       "\t<tr><th scope=row>Guyana</th><td>Guyana</td><td>South/Latin America</td><td>Global South</td><td>4</td></tr>\n",
       "\t<tr><th scope=row>Honduras</th><td>Honduras</td><td>South/Latin America</td><td>Global South</td><td>4</td></tr>\n",
       "\t<tr><th scope=row>India</th><td>India</td><td>Asia &amp; Pacific</td><td>Global South</td><td>4</td></tr>\n",
       "\t<tr><th scope=row>Israel</th><td>Israel</td><td>Europe</td><td>Global North</td><td>4</td></tr>\n",
       "\t<tr><th scope=row>Kenya</th><td>Kenya</td><td>Africa</td><td>Global South</td><td>4</td></tr>\n",
       "\t<tr><th scope=row>Qatar</th><td>Qatar</td><td>Middle east</td><td>Global South</td><td>4</td></tr>\n",
       "\t<tr><th scope=row>Senegal</th><td>Senegal</td><td>Africa</td><td>Global South</td><td>4</td></tr>\n",
       "\t<tr><th scope=row>Sri Lanka</th><td>Sri Lanka</td><td>Asia &amp; Pacific</td><td>Global South</td><td>4</td></tr>\n",
       "\t<tr><th scope=row>Uruguay</th><td>Uruguay</td><td>South/Latin America</td><td>Global South</td><td>4</td></tr>\n",
       "\t<tr><th scope=row>Venezuela</th><td>Venezuela</td><td>South/Latin America</td><td>Global South</td><td>4</td></tr>\n",
       "\t<tr><th scope=row>Zambia</th><td>Zambia</td><td>Africa</td><td>Global South</td><td>4</td></tr>\n",
       "\t<tr><th scope=row>Libya</th><td>Libya</td><td>Middle east</td><td>Global South</td><td>4</td></tr>\n",
       "</tbody>\n",
       "</table>\n"
      ],
      "text/latex": [
       "A data.frame: 17 × 4\n",
       "\\begin{tabular}{r|llll}\n",
       "  & Country & Region & Development & clusters\\\\\n",
       "  & <named list> & <named list> & <named list> & <int>\\\\\n",
       "\\hline\n",
       "\tArmenia & Armenia & Europe & Global South & 4\\\\\n",
       "\tBelarus & Belarus & Europe & Global South & 4\\\\\n",
       "\tCongo (Brazzaville) & Brazil & South/Latin America & Global South & 4\\\\\n",
       "\tCongo (Kinshasa) & Mongolia & Asia \\& Pacific & Global South & 4\\\\\n",
       "\tEstonia & Estonia & Europe & Global North & 4\\\\\n",
       "\tGuyana & Guyana & South/Latin America & Global South & 4\\\\\n",
       "\tHonduras & Honduras & South/Latin America & Global South & 4\\\\\n",
       "\tIndia & India & Asia \\& Pacific & Global South & 4\\\\\n",
       "\tIsrael & Israel & Europe & Global North & 4\\\\\n",
       "\tKenya & Kenya & Africa & Global South & 4\\\\\n",
       "\tQatar & Qatar & Middle east & Global South & 4\\\\\n",
       "\tSenegal & Senegal & Africa & Global South & 4\\\\\n",
       "\tSri Lanka & Sri Lanka & Asia \\& Pacific & Global South & 4\\\\\n",
       "\tUruguay & Uruguay & South/Latin America & Global South & 4\\\\\n",
       "\tVenezuela & Venezuela & South/Latin America & Global South & 4\\\\\n",
       "\tZambia & Zambia & Africa & Global South & 4\\\\\n",
       "\tLibya & Libya & Middle east & Global South & 4\\\\\n",
       "\\end{tabular}\n"
      ],
      "text/markdown": [
       "\n",
       "A data.frame: 17 × 4\n",
       "\n",
       "| <!--/--> | Country &lt;named list&gt; | Region &lt;named list&gt; | Development &lt;named list&gt; | clusters &lt;int&gt; |\n",
       "|---|---|---|---|---|\n",
       "| Armenia | Armenia | Europe | Global South | 4 |\n",
       "| Belarus | Belarus | Europe | Global South | 4 |\n",
       "| Congo (Brazzaville) | Brazil | South/Latin America | Global South | 4 |\n",
       "| Congo (Kinshasa) | Mongolia | Asia &amp; Pacific | Global South | 4 |\n",
       "| Estonia | Estonia | Europe | Global North | 4 |\n",
       "| Guyana | Guyana | South/Latin America | Global South | 4 |\n",
       "| Honduras | Honduras | South/Latin America | Global South | 4 |\n",
       "| India | India | Asia &amp; Pacific | Global South | 4 |\n",
       "| Israel | Israel | Europe | Global North | 4 |\n",
       "| Kenya | Kenya | Africa | Global South | 4 |\n",
       "| Qatar | Qatar | Middle east | Global South | 4 |\n",
       "| Senegal | Senegal | Africa | Global South | 4 |\n",
       "| Sri Lanka | Sri Lanka | Asia &amp; Pacific | Global South | 4 |\n",
       "| Uruguay | Uruguay | South/Latin America | Global South | 4 |\n",
       "| Venezuela | Venezuela | South/Latin America | Global South | 4 |\n",
       "| Zambia | Zambia | Africa | Global South | 4 |\n",
       "| Libya | Libya | Middle east | Global South | 4 |\n",
       "\n"
      ],
      "text/plain": [
       "                    Country   Region              Development  clusters\n",
       "Armenia             Armenia   Europe              Global South 4       \n",
       "Belarus             Belarus   Europe              Global South 4       \n",
       "Congo (Brazzaville) Brazil    South/Latin America Global South 4       \n",
       "Congo (Kinshasa)    Mongolia  Asia & Pacific      Global South 4       \n",
       "Estonia             Estonia   Europe              Global North 4       \n",
       "Guyana              Guyana    South/Latin America Global South 4       \n",
       "Honduras            Honduras  South/Latin America Global South 4       \n",
       "India               India     Asia & Pacific      Global South 4       \n",
       "Israel              Israel    Europe              Global North 4       \n",
       "Kenya               Kenya     Africa              Global South 4       \n",
       "Qatar               Qatar     Middle east         Global South 4       \n",
       "Senegal             Senegal   Africa              Global South 4       \n",
       "Sri Lanka           Sri Lanka Asia & Pacific      Global South 4       \n",
       "Uruguay             Uruguay   South/Latin America Global South 4       \n",
       "Venezuela           Venezuela South/Latin America Global South 4       \n",
       "Zambia              Zambia    Africa              Global South 4       \n",
       "Libya               Libya     Middle east         Global South 4       "
      ]
     },
     "metadata": {},
     "output_type": "display_data"
    }
   ],
   "source": [
    "subset(deaths.clusters$cluster.info, clusters == 4)"
   ]
  },
  {
   "cell_type": "markdown",
   "metadata": {},
   "source": [
    "### Recoveries"
   ]
  },
  {
   "cell_type": "markdown",
   "metadata": {},
   "source": [
    "## Piecewise-linear skeleton"
   ]
  }
 ],
 "metadata": {
  "kernelspec": {
   "display_name": "R",
   "language": "R",
   "name": "ir"
  },
  "language_info": {
   "codemirror_mode": "r",
   "file_extension": ".r",
   "mimetype": "text/x-r-source",
   "name": "R",
   "pygments_lexer": "r",
   "version": "3.6.2"
  }
 },
 "nbformat": 4,
 "nbformat_minor": 4
}
